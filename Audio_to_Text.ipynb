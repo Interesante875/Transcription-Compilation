{
  "nbformat": 4,
  "nbformat_minor": 0,
  "metadata": {
    "colab": {
      "provenance": []
    },
    "kernelspec": {
      "name": "python3",
      "display_name": "Python 3"
    },
    "language_info": {
      "name": "python"
    }
  },
  "cells": [
    {
      "cell_type": "code",
      "execution_count": null,
      "metadata": {
        "id": "437IXjD9gh-h"
      },
      "outputs": [],
      "source": [
        "pip install SpeechRecognition pydub"
      ]
    },
    {
      "cell_type": "code",
      "source": [
        "# importing libraries\n",
        "import speech_recognition as sr\n",
        "import os\n",
        "from pydub import AudioSegment\n",
        "from pydub.silence import split_on_silence"
      ],
      "metadata": {
        "id": "bb7gmyhVgr_e"
      },
      "execution_count": null,
      "outputs": []
    },
    {
      "cell_type": "code",
      "source": [
        "r = sr.Recognizer()\n",
        "\n",
        "\"\"\"\n",
        "recognize_bing(): Microsoft Bing Speech\n",
        "recognize_google(): Google Web Speech API\n",
        "recognize_google_cloud(): Google Cloud Speech - requires installation of the google-cloud-speech package\n",
        "recognize_houndify(): Houndify by SoundHound\n",
        "recognize_ibm(): IBM Speech to Text\n",
        "recognize_sphinx(): CMU Sphinx - requires installing PocketSphinx\n",
        "recognize_wit(): Wit.ai\n",
        "\"\"\"\n",
        "\n",
        "khairy = sr.AudioFile(\"/content/videoplayback1.wav\")\n",
        "with khairy as source:\n",
        "    audio = r.listen(source)\n",
        "    try:\n",
        "        text = r.recognize_google(audio, language = \"en-in\")\n",
        "        print(text)\n",
        "    except:\n",
        "        print(\"Error\")"
      ],
      "metadata": {
        "colab": {
          "base_uri": "https://localhost:8080/"
        },
        "id": "6qRlQKJngu8l",
        "outputId": "6d41cdef-377c-4a33-a603-b3a0b9584f41"
      },
      "execution_count": null,
      "outputs": [
        {
          "output_type": "stream",
          "name": "stdout",
          "text": [
            "has one of the most Innovative leaders of our time and follow these five principles as a toxic one follow your passions Steve Jobs delivered his famous Stanford commencement speech 2005 70% or were invented and a bag sitting on a table in the middle of it darkened stage Gods turned product launches into performances\n"
          ]
        }
      ]
    },
    {
      "cell_type": "code",
      "source": [
        "# a function that splits the audio file into chunks\n",
        "# and applies speech recognition\n",
        "def get_large_audio_transcription(path):\n",
        "    \"\"\"\n",
        "    Splitting the large audio file into chunks\n",
        "    and apply speech recognition on each of these chunks\n",
        "    \"\"\"\n",
        "    # open the audio file using pydub\n",
        "    sound = AudioSegment.from_wav(path)\n",
        "    # split audio sound where silence is 700 miliseconds or more and get chunks\n",
        "    chunks = split_on_silence(sound,\n",
        "        # experiment with this value for your target audio file\n",
        "        min_silence_len = 500,\n",
        "        # adjust this per requirement\n",
        "        silence_thresh = sound.dBFS-14,\n",
        "        # keep the silence for 1 second, adjustable as well\n",
        "        keep_silence=500,\n",
        "    )\n",
        "    folder_name = \"audio-chunks\"\n",
        "    # create a directory to store the audio chunks\n",
        "    if not os.path.isdir(folder_name):\n",
        "        os.mkdir(folder_name)\n",
        "    whole_text = \"\"\n",
        "    # process each chunk\n",
        "    for i, audio_chunk in enumerate(chunks, start=0):\n",
        "        # export audio chunk and save it in\n",
        "        # the `folder_name` directory.\n",
        "        chunk_filename = os.path.join(folder_name, f\"chunk{i}.wav\")\n",
        "        audio_chunk.export(chunk_filename, format=\"wav\")\n",
        "        # recognize the chunk\n",
        "        with sr.AudioFile(chunk_filename) as source:\n",
        "            audio_listened = r.record(source)\n",
        "            # try converting it to text\n",
        "            try:\n",
        "                text = r.recognize_google(audio_listened)\n",
        "            except sr.UnknownValueError as e:\n",
        "                print(\"Error:\", str(e))\n",
        "            else:\n",
        "                text = f\"{text.capitalize()}. \"\n",
        "                print(text)\n",
        "                whole_text += text\n",
        "    # return the text for all chunks detected\n",
        "    return whole_text"
      ],
      "metadata": {
        "id": "ylat_BkUkE9C"
      },
      "execution_count": null,
      "outputs": []
    },
    {
      "cell_type": "code",
      "source": [
        "get_large_audio_transcription(\"/content/videoplayback1.wav\")"
      ],
      "metadata": {
        "colab": {
          "base_uri": "https://localhost:8080/",
          "height": 142
        },
        "id": "Ay_AL4rSomNA",
        "outputId": "4ddb026c-b1cc-49f7-8dc1-3cba0b4a131e"
      },
      "execution_count": null,
      "outputs": [
        {
          "output_type": "stream",
          "name": "stdout",
          "text": [
            "Has one of the most innovative leaders of our time and follow these five principles as a task 1 follow your passion. \n",
            "Error: \n",
            "Become a storyteller in peace god deliver teatrical presentations before powerpoint or keynote were invented struggle and a hero even pulled the computer out of a black canvas bag sitting on a table in the middle of a darkened stage gods turned product launches into performances. \n"
          ]
        },
        {
          "output_type": "execute_result",
          "data": {
            "application/vnd.google.colaboratory.intrinsic+json": {
              "type": "string"
            },
            "text/plain": [
              "'Has one of the most innovative leaders of our time and follow these five principles as a task 1 follow your passion. Become a storyteller in peace god deliver teatrical presentations before powerpoint or keynote were invented struggle and a hero even pulled the computer out of a black canvas bag sitting on a table in the middle of a darkened stage gods turned product launches into performances. '"
            ]
          },
          "metadata": {},
          "execution_count": 30
        }
      ]
    }
  ]
}